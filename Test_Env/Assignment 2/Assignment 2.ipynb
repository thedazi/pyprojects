{
 "cells": [
  {
   "attachments": {},
   "cell_type": "markdown",
   "metadata": {},
   "source": [
    "# Coding Exercise"
   ]
  },
  {
   "attachments": {},
   "cell_type": "markdown",
   "metadata": {},
   "source": [
    "#### <font color=\"#dd0000\">Identification\n",
    "Please enter your **name** and your **student ID** number in this markdown cell:\n",
    "\n",
    "* **Student Name:** 郑搏\n",
    "* **Student ID:** 20124352\n",
    "\n",
    "#### <font color=\"#dd0000\"> Import Statements\n",
    "Add in the following cell all the import statements that you need to run the entire notebook."
   ]
  },
  {
   "cell_type": "code",
   "execution_count": null,
   "metadata": {},
   "outputs": [],
   "source": [
    "import pandas as pd\n",
    "import numpy as np"
   ]
  },
  {
   "attachments": {},
   "cell_type": "markdown",
   "metadata": {},
   "source": [
    "___\n",
    "### Exercise 1\n",
    "The file `ROEs.csv` contains data on the Return on Equity of worldwide companies in the MSCI World Index, together with a numerical sector code and the country where each company is headquartered. Load its content into a DataFrame called `firm_roe` and choose the appropriate index for this DataFrame. Then calculate the average return on equity of Australian firms. Assign this number to a variable called `australia_roe`"
   ]
  },
  {
   "cell_type": "code",
   "execution_count": null,
   "metadata": {},
   "outputs": [],
   "source": [
    "firm_roe = pd.read_csv('ROEs.csv', index_col ='Symbol')\n",
    "firm_roe.head()\n",
    "australia_roe = firm_roe['ROE'].mean()"
   ]
  },
  {
   "attachments": {},
   "cell_type": "markdown",
   "metadata": {},
   "source": [
    "___\n",
    "### Exercise 2\n",
    "The file `Markets.csv` contains daily returns for the ASX 200, the Russell 2000 (US Small companies) and the Hang Seng (Hong Kong shares) market indices. Load its content in a DataFrame called `index_returns` and choose the appropriate index for it. The file has also a columns that indicates the day of the week. \n",
    "\n",
    "For the Chinese market calculate the difference between the average daily return on Fridays and the average daily return on Mondays. Assign the result, a number, to a variable called `weekend_effect`."
   ]
  },
  {
   "cell_type": "code",
   "execution_count": null,
   "metadata": {},
   "outputs": [],
   "source": [
    "index_returns = pd.read_csv('Markets.csv', index_col = 'Date')\n",
    "index_returns.head()\n",
    "fridays = index_returns[index_returns.index == 'Friday']\n",
    "fridays_average = fridays['Day'].mean()\n",
    "mondays = index_returns[index_returns.index == 'Monday']\n",
    "mondays_average = mondays['Day'].mean()\n",
    "weekend_effect = float(fridays_average - mondays_average)"
   ]
  },
  {
   "attachments": {},
   "cell_type": "markdown",
   "metadata": {},
   "source": [
    "### Exercise 3\n",
    "The file `Returns.csv` contains data on daily returns of five major developed stock markets from 1985 to the end of 2022. Load its content into a DataFrame called `returns`. Choose the appropriate index for this DataFrame and parse the date variable. Suppose an investment strategy that **invests between November and April** and don't invest between May and October. "
   ]
  },
  {
   "cell_type": "code",
   "execution_count": null,
   "metadata": {},
   "outputs": [],
   "source": [
    "returns = pd.read_csv('Returns.csv', index_col = 'Date')\n"
   ]
  },
  {
   "attachments": {},
   "cell_type": "markdown",
   "metadata": {},
   "source": [
    "Step 1: Add a column `Month` to the DataFrame `returns` with the calendar month of each observation. For every row, in this column, you should have a number from 1 to 12 indicating to which calendar month that observation belongs. You may use `DataFrame.index.month` to get month information from the index."
   ]
  },
  {
   "cell_type": "code",
   "execution_count": null,
   "metadata": {},
   "outputs": [],
   "source": [
    "returns['Month'] = [1,2,3,4,5,6,7,8,9,10,11,12]"
   ]
  },
  {
   "attachments": {},
   "cell_type": "markdown",
   "metadata": {},
   "source": [
    "Step 2: Add a second column called `Signal` that is equal to +1 (invest) if the month is between November and April (included) and 0 (not invest) otherwise."
   ]
  },
  {
   "cell_type": "code",
   "execution_count": null,
   "metadata": {},
   "outputs": [],
   "source": []
  },
  {
   "attachments": {},
   "cell_type": "markdown",
   "metadata": {},
   "source": [
    "Step 3: To see whether the strategy works in these markets, use the **groupby operator** for signal to calculate the (annualized) mean return for the U.S. markets. Notably, since every signal of this strategy only allows us to invest for 6 months every year, to \"annualize\" the return you can simply multiply it by 130 (assuming 260 trading days per year)."
   ]
  },
  {
   "cell_type": "code",
   "execution_count": null,
   "metadata": {},
   "outputs": [],
   "source": []
  },
  {
   "attachments": {},
   "cell_type": "markdown",
   "metadata": {},
   "source": [
    "### Exercise 4\n",
    "The file `rawdata.csv` contains data on exchange rate and gold price. Load its content into a DataFrame called `raw`. Choose the appropriate index for this DataFrame and parse the date variable. Keep all non-missing values. \n",
    "\n",
    "Let's now extract the **Euro/USD** exchange rate into its own DataFrame. We use the `Series.to_frame()` method to transform it into a DataFrame with a single column. Now find the optimal momentum parameter by using the following function on different \"signals\" defined as the past returns over the previous $n$ days with $n$ going from 1 to 10."
   ]
  },
  {
   "cell_type": "code",
   "execution_count": null,
   "metadata": {},
   "outputs": [],
   "source": [
    "def MOM_Strategy(prices, MOM=3): \n",
    "    data = prices.rename('price').to_frame() #Here we change the name so we do not need to worry about the name of the item\n",
    "    data['signal'] = np.log(data['price'] / data['price'].shift(MOM))\n",
    "    data['position'] = np.sign(data['signal'])\n",
    "    data.dropna(inplace=True)\n",
    "    data['returns'] = np.log(data['price'].shift(-1) / data['price'])\n",
    "    data['strategy'] = data['position'] * data['returns']\n",
    "    \n",
    "    return data['strategy'].sum()    # this will produce the historical total return"
   ]
  },
  {
   "cell_type": "code",
   "execution_count": null,
   "metadata": {},
   "outputs": [],
   "source": [
    "raw = pd.read_csv('rawdata.csv', index_col = 'Date')"
   ]
  },
  {
   "attachments": {},
   "cell_type": "markdown",
   "metadata": {},
   "source": [
    "___\n",
    "### (Challenge) Exercise 5\n",
    "An investor is interested in exploring the profitability of a \"Value-Momentum\" Strategy where a value and a momentum indicator are combined into a single information signal."
   ]
  },
  {
   "attachments": {},
   "cell_type": "markdown",
   "metadata": {},
   "source": [
    "Step 1: (1) Load the data on earnings to price ratios for US stocks contained in `EP12.csv` into a DataFrame called `ep`.\n",
    "(2) Load the data on 12 months momentum for US stocks contained in `MOM12.csv` into a DataFrame called `mom12`. (3) Load the data on US stock prices contained in `Prices.csv` into a DataFrame called `prices`"
   ]
  },
  {
   "cell_type": "code",
   "execution_count": null,
   "metadata": {},
   "outputs": [],
   "source": []
  },
  {
   "attachments": {},
   "cell_type": "markdown",
   "metadata": {},
   "source": [
    "Step 2: Combine these two factors into a single DataFrame called `factors` and keep only the observations where they are both non-missing. Create an additional column in `factors` called `value_mom` containing, for each month, the average of `ep` and `mom12` (**HINT**: you may use `DataFrame.mean(axis=1)` to calculate this average for each month."
   ]
  },
  {
   "cell_type": "code",
   "execution_count": null,
   "metadata": {},
   "outputs": [],
   "source": []
  },
  {
   "attachments": {},
   "cell_type": "markdown",
   "metadata": {},
   "source": [
    "Step 3: Use the `ic_analysis` function from the `apmodule` to generate the monthly information coefficient for the momentum and the value factors as well as the combined value-momentum factor. For all calculations use the signals from the DataFrame `factors` and not from the original files. Assign the results to `ic_mom12`, `ic_ep12` and `ic_value_mom`, respectively. "
   ]
  },
  {
   "cell_type": "code",
   "execution_count": null,
   "metadata": {},
   "outputs": [],
   "source": []
  },
  {
   "attachments": {},
   "cell_type": "markdown",
   "metadata": {},
   "source": [
    "Step 4: Calculate:\n",
    "1. The percentage of months in which the value-momentum strategy beats the momentum strategy (has a higher information coefficient). Assign the result (a number, for example 0.6534... to indicate 65.34%) to `percentage_1`.\n",
    "2. The percentage of months in which the value-momentum strategy beats the value strategy (has a higher information coefficient). Assign the result (a number, for example 0.6534... to indicate 65.34%) to `percentage_2`."
   ]
  },
  {
   "cell_type": "code",
   "execution_count": null,
   "metadata": {},
   "outputs": [],
   "source": []
  }
 ],
 "metadata": {
  "kernelspec": {
   "display_name": "Python 3",
   "language": "python",
   "name": "python3"
  },
  "language_info": {
   "codemirror_mode": {
    "name": "ipython",
    "version": 3
   },
   "file_extension": ".py",
   "mimetype": "text/x-python",
   "name": "python",
   "nbconvert_exporter": "python",
   "pygments_lexer": "ipython3",
   "version": "3.8.5"
  }
 },
 "nbformat": 4,
 "nbformat_minor": 4
}
